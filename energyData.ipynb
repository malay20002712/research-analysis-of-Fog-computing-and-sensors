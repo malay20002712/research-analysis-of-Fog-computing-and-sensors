{
 "cells": [
  {
   "cell_type": "code",
   "execution_count": 189,
   "id": "d927f495",
   "metadata": {},
   "outputs": [],
   "source": [
    "import numpy as np\n",
    "import pandas as pd\n",
    "import matplotlib.pyplot as plt\n",
    "import statistics as st\n",
    "import seaborn as sns"
   ]
  },
  {
   "cell_type": "markdown",
   "id": "26809d1b",
   "metadata": {},
   "source": [
    "# importing the csv file where all information are stored"
   ]
  },
  {
   "cell_type": "code",
   "execution_count": 190,
   "id": "6252697d",
   "metadata": {},
   "outputs": [
    {
     "data": {
      "text/html": [
       "<div>\n",
       "<style scoped>\n",
       "    .dataframe tbody tr th:only-of-type {\n",
       "        vertical-align: middle;\n",
       "    }\n",
       "\n",
       "    .dataframe tbody tr th {\n",
       "        vertical-align: top;\n",
       "    }\n",
       "\n",
       "    .dataframe thead th {\n",
       "        text-align: right;\n",
       "    }\n",
       "</style>\n",
       "<table border=\"1\" class=\"dataframe\">\n",
       "  <thead>\n",
       "    <tr style=\"text-align: right;\">\n",
       "      <th></th>\n",
       "      <th>m0</th>\n",
       "      <th>m1</th>\n",
       "      <th>m2</th>\n",
       "      <th>m3</th>\n",
       "      <th>devices</th>\n",
       "    </tr>\n",
       "  </thead>\n",
       "  <tbody>\n",
       "    <tr>\n",
       "      <th>0</th>\n",
       "      <td>874849.32</td>\n",
       "      <td>873541.96</td>\n",
       "      <td>874603.17</td>\n",
       "      <td>874473.45</td>\n",
       "      <td>1</td>\n",
       "    </tr>\n",
       "    <tr>\n",
       "      <th>1</th>\n",
       "      <td>873236.11</td>\n",
       "      <td>874358.30</td>\n",
       "      <td>874257.74</td>\n",
       "      <td>874768.25</td>\n",
       "      <td>2</td>\n",
       "    </tr>\n",
       "    <tr>\n",
       "      <th>2</th>\n",
       "      <td>874419.66</td>\n",
       "      <td>874334.75</td>\n",
       "      <td>874699.11</td>\n",
       "      <td>874553.11</td>\n",
       "      <td>3</td>\n",
       "    </tr>\n",
       "    <tr>\n",
       "      <th>3</th>\n",
       "      <td>874123.38</td>\n",
       "      <td>874613.94</td>\n",
       "      <td>874650.93</td>\n",
       "      <td>874752.14</td>\n",
       "      <td>4</td>\n",
       "    </tr>\n",
       "    <tr>\n",
       "      <th>4</th>\n",
       "      <td>874727.29</td>\n",
       "      <td>874736.66</td>\n",
       "      <td>874730.70</td>\n",
       "      <td>873708.72</td>\n",
       "      <td>5</td>\n",
       "    </tr>\n",
       "  </tbody>\n",
       "</table>\n",
       "</div>"
      ],
      "text/plain": [
       "          m0         m1         m2         m3  devices\n",
       "0  874849.32  873541.96  874603.17  874473.45        1\n",
       "1  873236.11  874358.30  874257.74  874768.25        2\n",
       "2  874419.66  874334.75  874699.11  874553.11        3\n",
       "3  874123.38  874613.94  874650.93  874752.14        4\n",
       "4  874727.29  874736.66  874730.70  873708.72        5"
      ]
     },
     "execution_count": 190,
     "metadata": {},
     "output_type": "execute_result"
    }
   ],
   "source": [
    "fog_data = pd.read_csv('C:\\\\Users\\\\DELL\\\\Desktop\\\\NIT research\\\\energyconsumption.csv')\n",
    "fog_data.head()"
   ]
  },
  {
   "cell_type": "markdown",
   "id": "ebc4cb02",
   "metadata": {},
   "source": [
    "# informative data"
   ]
  },
  {
   "cell_type": "code",
   "execution_count": 191,
   "id": "dd38e661",
   "metadata": {},
   "outputs": [
    {
     "name": "stdout",
     "output_type": "stream",
     "text": [
      "<class 'pandas.core.frame.DataFrame'>\n",
      "RangeIndex: 6 entries, 0 to 5\n",
      "Data columns (total 5 columns):\n",
      " #   Column   Non-Null Count  Dtype  \n",
      "---  ------   --------------  -----  \n",
      " 0   m0       6 non-null      float64\n",
      " 1   m1       6 non-null      float64\n",
      " 2   m2       6 non-null      float64\n",
      " 3   m3       6 non-null      float64\n",
      " 4   devices  6 non-null      int64  \n",
      "dtypes: float64(4), int64(1)\n",
      "memory usage: 368.0 bytes\n"
     ]
    }
   ],
   "source": [
    "fog_data.info ()"
   ]
  },
  {
   "cell_type": "markdown",
   "id": "ee4a9c60",
   "metadata": {},
   "source": [
    "# described data"
   ]
  },
  {
   "cell_type": "code",
   "execution_count": 194,
   "id": "5be3babc",
   "metadata": {},
   "outputs": [
    {
     "data": {
      "text/html": [
       "<div>\n",
       "<style scoped>\n",
       "    .dataframe tbody tr th:only-of-type {\n",
       "        vertical-align: middle;\n",
       "    }\n",
       "\n",
       "    .dataframe tbody tr th {\n",
       "        vertical-align: top;\n",
       "    }\n",
       "\n",
       "    .dataframe thead th {\n",
       "        text-align: right;\n",
       "    }\n",
       "</style>\n",
       "<table border=\"1\" class=\"dataframe\">\n",
       "  <thead>\n",
       "    <tr style=\"text-align: right;\">\n",
       "      <th></th>\n",
       "      <th>m0</th>\n",
       "      <th>m1</th>\n",
       "      <th>m2</th>\n",
       "      <th>m3</th>\n",
       "      <th>devices</th>\n",
       "    </tr>\n",
       "  </thead>\n",
       "  <tbody>\n",
       "    <tr>\n",
       "      <th>count</th>\n",
       "      <td>6.000000</td>\n",
       "      <td>6.000000</td>\n",
       "      <td>6.000000</td>\n",
       "      <td>6.000000</td>\n",
       "      <td>6.000000</td>\n",
       "    </tr>\n",
       "    <tr>\n",
       "      <th>mean</th>\n",
       "      <td>874365.685000</td>\n",
       "      <td>874404.825000</td>\n",
       "      <td>874413.668333</td>\n",
       "      <td>874436.798333</td>\n",
       "      <td>3.500000</td>\n",
       "    </tr>\n",
       "    <tr>\n",
       "      <th>std</th>\n",
       "      <td>620.586478</td>\n",
       "      <td>468.561638</td>\n",
       "      <td>460.688852</td>\n",
       "      <td>389.719942</td>\n",
       "      <td>1.870829</td>\n",
       "    </tr>\n",
       "    <tr>\n",
       "      <th>min</th>\n",
       "      <td>873236.110000</td>\n",
       "      <td>873541.960000</td>\n",
       "      <td>873540.360000</td>\n",
       "      <td>873708.720000</td>\n",
       "      <td>1.000000</td>\n",
       "    </tr>\n",
       "    <tr>\n",
       "      <th>25%</th>\n",
       "      <td>874197.450000</td>\n",
       "      <td>874340.637500</td>\n",
       "      <td>874344.097500</td>\n",
       "      <td>874392.202500</td>\n",
       "      <td>2.250000</td>\n",
       "    </tr>\n",
       "    <tr>\n",
       "      <th>50%</th>\n",
       "      <td>874573.475000</td>\n",
       "      <td>874486.120000</td>\n",
       "      <td>874627.050000</td>\n",
       "      <td>874513.280000</td>\n",
       "      <td>3.500000</td>\n",
       "    </tr>\n",
       "    <tr>\n",
       "      <th>75%</th>\n",
       "      <td>874810.585000</td>\n",
       "      <td>874705.980000</td>\n",
       "      <td>874687.065000</td>\n",
       "      <td>874702.382500</td>\n",
       "      <td>4.750000</td>\n",
       "    </tr>\n",
       "    <tr>\n",
       "      <th>max</th>\n",
       "      <td>874849.320000</td>\n",
       "      <td>874843.340000</td>\n",
       "      <td>874730.700000</td>\n",
       "      <td>874768.250000</td>\n",
       "      <td>6.000000</td>\n",
       "    </tr>\n",
       "  </tbody>\n",
       "</table>\n",
       "</div>"
      ],
      "text/plain": [
       "                  m0             m1             m2             m3   devices\n",
       "count       6.000000       6.000000       6.000000       6.000000  6.000000\n",
       "mean   874365.685000  874404.825000  874413.668333  874436.798333  3.500000\n",
       "std       620.586478     468.561638     460.688852     389.719942  1.870829\n",
       "min    873236.110000  873541.960000  873540.360000  873708.720000  1.000000\n",
       "25%    874197.450000  874340.637500  874344.097500  874392.202500  2.250000\n",
       "50%    874573.475000  874486.120000  874627.050000  874513.280000  3.500000\n",
       "75%    874810.585000  874705.980000  874687.065000  874702.382500  4.750000\n",
       "max    874849.320000  874843.340000  874730.700000  874768.250000  6.000000"
      ]
     },
     "execution_count": 194,
     "metadata": {},
     "output_type": "execute_result"
    }
   ],
   "source": [
    "fog_data.describe()"
   ]
  },
  {
   "cell_type": "markdown",
   "id": "1aa5a9e8",
   "metadata": {},
   "source": [
    "# plotting energy 1 data"
   ]
  },
  {
   "cell_type": "code",
   "execution_count": 217,
   "id": "d64ac02c",
   "metadata": {},
   "outputs": [
    {
     "data": {
      "image/png": "[encoded data removed]",
      "text/plain": [
       "<Figure size 432x288 with 1 Axes>"
      ]
     },
     "metadata": {
      "needs_background": "light"
     },
     "output_type": "display_data"
    }
   ],
   "source": [
    "Energy1 = fog_data ['m0'].tolist()\n",
    "device1 = fog_data['devices'].tolist()\n",
    "\n",
    "#find out the matplot\n",
    "plt.plot(device1, Energy1, color='red', marker='o')\n",
    "plt.title('Energy Vs sensors', fontsize=14)\n",
    "plt.xlabel('Sensors', fontsize=14)\n",
    "plt.ylabel('Energy', fontsize=14)\n",
    "plt.grid(True)\n",
    "plt.show()"
   ]
  },
  {
   "cell_type": "markdown",
   "id": "8edfe605",
   "metadata": {},
   "source": [
    "values in energy 1"
   ]
  },
  {
   "cell_type": "code",
   "execution_count": 196,
   "id": "e34fc458",
   "metadata": {},
   "outputs": [
    {
     "data": {
      "text/plain": [
       "[874849.32, 873236.11, 874419.66, 874123.38, 874727.29, 874838.35]"
      ]
     },
     "execution_count": 196,
     "metadata": {},
     "output_type": "execute_result"
    }
   ],
   "source": [
    "Energy1"
   ]
  },
  {
   "cell_type": "code",
   "execution_count": 197,
   "id": "8bf889b3",
   "metadata": {},
   "outputs": [
    {
     "data": {
      "text/plain": [
       "m0         0\n",
       "m1         0\n",
       "m2         0\n",
       "m3         0\n",
       "devices    0\n",
       "dtype: int64"
      ]
     },
     "execution_count": 197,
     "metadata": {},
     "output_type": "execute_result"
    }
   ],
   "source": [
    "fog_data.isnull().sum()"
   ]
  },
  {
   "cell_type": "markdown",
   "id": "32a45ac5",
   "metadata": {},
   "source": [
    "plt.scatter(x=fog_data.m0, y=fog_data.devices)\n",
    "plt.xlabel('ENERGY')\n",
    "plt.ylabel('FREQUENCY')\n",
    "plt.title('ENERGY VS FREQUENCY')\n",
    "plt.show()"
   ]
  },
  {
   "cell_type": "code",
   "execution_count": 213,
   "id": "8a2b22ab",
   "metadata": {},
   "outputs": [
    {
     "ename": "TypeError",
     "evalue": "drop() got multiple values for argument 'axis'",
     "output_type": "error",
     "traceback": [
      "\u001b[1;31m---------------------------------------------------------------------------\u001b[0m",
      "\u001b[1;31mTypeError\u001b[0m                                 Traceback (most recent call last)",
      "\u001b[1;32m<ipython-input-213-09c47093ea65>\u001b[0m in \u001b[0;36m<module>\u001b[1;34m\u001b[0m\n\u001b[0;32m      1\u001b[0m \u001b[0mplt\u001b[0m\u001b[1;33m.\u001b[0m\u001b[0mfigure\u001b[0m\u001b[1;33m(\u001b[0m\u001b[0mfigsize\u001b[0m \u001b[1;33m=\u001b[0m \u001b[1;33m(\u001b[0m\u001b[1;36m4\u001b[0m\u001b[1;33m,\u001b[0m\u001b[1;36m4\u001b[0m\u001b[1;33m)\u001b[0m\u001b[1;33m)\u001b[0m\u001b[1;33m\u001b[0m\u001b[1;33m\u001b[0m\u001b[0m\n\u001b[1;32m----> 2\u001b[1;33m \u001b[0mcorrmat\u001b[0m \u001b[1;33m=\u001b[0m \u001b[0mdf\u001b[0m\u001b[1;33m.\u001b[0m\u001b[0mdrop\u001b[0m\u001b[1;33m(\u001b[0m\u001b[1;34m'm1'\u001b[0m\u001b[1;33m,\u001b[0m \u001b[1;34m'm2'\u001b[0m\u001b[1;33m,\u001b[0m \u001b[1;34m'm3'\u001b[0m\u001b[1;33m,\u001b[0m \u001b[0maxis\u001b[0m \u001b[1;33m=\u001b[0m \u001b[1;36m3\u001b[0m\u001b[1;33m)\u001b[0m\u001b[1;33m.\u001b[0m\u001b[0mcorr\u001b[0m\u001b[1;33m(\u001b[0m\u001b[1;33m)\u001b[0m\u001b[1;33m\u001b[0m\u001b[1;33m\u001b[0m\u001b[0m\n\u001b[0m\u001b[0;32m      3\u001b[0m \u001b[0msns\u001b[0m\u001b[1;33m.\u001b[0m\u001b[0mheatmap\u001b[0m\u001b[1;33m(\u001b[0m\u001b[0mcorrmat\u001b[0m\u001b[1;33m,\u001b[0m \u001b[0mannot\u001b[0m\u001b[1;33m=\u001b[0m\u001b[1;32mTrue\u001b[0m\u001b[1;33m,\u001b[0m \u001b[0msquare\u001b[0m\u001b[1;33m=\u001b[0m\u001b[1;32mTrue\u001b[0m\u001b[1;33m,\u001b[0m \u001b[0mcmap\u001b[0m \u001b[1;33m=\u001b[0m \u001b[1;34m'viridis'\u001b[0m\u001b[1;33m)\u001b[0m\u001b[1;33m\u001b[0m\u001b[1;33m\u001b[0m\u001b[0m\n\u001b[0;32m      4\u001b[0m \u001b[0mplt\u001b[0m\u001b[1;33m.\u001b[0m\u001b[0mshow\u001b[0m\u001b[1;33m(\u001b[0m\u001b[1;33m)\u001b[0m\u001b[1;33m\u001b[0m\u001b[1;33m\u001b[0m\u001b[0m\n",
      "\u001b[1;31mTypeError\u001b[0m: drop() got multiple values for argument 'axis'"
     ]
    },
    {
     "data": {
      "text/plain": [
       "<Figure size 288x288 with 0 Axes>"
      ]
     },
     "metadata": {},
     "output_type": "display_data"
    }
   ],
   "source": [
    "plt.figure(figsize = (4,4))\n",
    "corrmat = df.drop('m1', 'm2', 'm3', axis = 3).corr()\n",
    "sns.heatmap(corrmat, annot=True, square=True, cmap = 'viridis')\n",
    "plt.show()"
   ]
  },
  {
   "cell_type": "markdown",
   "id": "40fc419a",
   "metadata": {},
   "source": [
    "# plotting energy data 2"
   ]
  },
  {
   "cell_type": "code",
   "execution_count": 134,
   "id": "fece1e41",
   "metadata": {},
   "outputs": [],
   "source": [
    "Energy2 = fog_data ['m1'].tolist ()"
   ]
  },
  {
   "cell_type": "code",
   "execution_count": 135,
   "id": "17a8a6b5",
   "metadata": {},
   "outputs": [
    {
     "data": {
      "text/plain": [
       "[873541.96, 874358.3, 874334.75, 874613.94, 874736.66, 874843.34]"
      ]
     },
     "execution_count": 135,
     "metadata": {},
     "output_type": "execute_result"
    }
   ],
   "source": [
    "Energy2"
   ]
  },
  {
   "cell_type": "markdown",
   "id": "4da254e5",
   "metadata": {},
   "source": [
    "# mean of Energy 2"
   ]
  },
  {
   "cell_type": "code",
   "execution_count": 136,
   "id": "efd862c2",
   "metadata": {},
   "outputs": [
    {
     "name": "stdout",
     "output_type": "stream",
     "text": [
      "mean of Energy2 : 874404.825\n"
     ]
    }
   ],
   "source": [
    "print('mean of Energy2 :', st.mean(Energy2))"
   ]
  },
  {
   "cell_type": "code",
   "execution_count": 137,
   "id": "292cbab3",
   "metadata": {},
   "outputs": [
    {
     "data": {
      "text/plain": [
       "m0         0\n",
       "m1         0\n",
       "m2         0\n",
       "m3         0\n",
       "devices    0\n",
       "dtype: int64"
      ]
     },
     "execution_count": 137,
     "metadata": {},
     "output_type": "execute_result"
    }
   ],
   "source": [
    "fog_data.isnull().sum()"
   ]
  },
  {
   "cell_type": "code",
   "execution_count": 218,
   "id": "d44f46d9",
   "metadata": {},
   "outputs": [
    {
     "data": {
      "image/png": "[encoded data removed]",
      "text/plain": [
       "<Figure size 432x288 with 1 Axes>"
      ]
     },
     "metadata": {
      "needs_background": "light"
     },
     "output_type": "display_data"
    }
   ],
   "source": [
    "Energy1 = fog_data ['m1'].tolist()\n",
    "\n",
    "#find out the matplot\n",
    "plt.plot(device1, Energy1, color='red', marker='o')\n",
    "plt.title('Energy Vs sensors', fontsize=14)\n",
    "plt.xlabel('Sensors', fontsize=14)\n",
    "plt.ylabel('Energy', fontsize=14)\n",
    "plt.grid(True)\n",
    "plt.show()"
   ]
  },
  {
   "cell_type": "markdown",
   "id": "1cbea90a",
   "metadata": {},
   "source": [
    "# plotting Energy 3"
   ]
  },
  {
   "cell_type": "code",
   "execution_count": 139,
   "id": "16cdb5ae",
   "metadata": {},
   "outputs": [],
   "source": [
    "Energy3 = fog_data['m2'].tolist ()"
   ]
  },
  {
   "cell_type": "code",
   "execution_count": 140,
   "id": "bb83db37",
   "metadata": {},
   "outputs": [
    {
     "data": {
      "text/plain": [
       "[874603.17, 874257.74, 874699.11, 874650.93, 874730.7, 873540.36]"
      ]
     },
     "execution_count": 140,
     "metadata": {},
     "output_type": "execute_result"
    }
   ],
   "source": [
    "Energy3"
   ]
  },
  {
   "cell_type": "code",
   "execution_count": 141,
   "id": "f10f8a12",
   "metadata": {},
   "outputs": [
    {
     "name": "stdout",
     "output_type": "stream",
     "text": [
      "total Energy:  5246482.010000001\n"
     ]
    }
   ],
   "source": [
    "print('total Energy: ', sum(Energy3))"
   ]
  },
  {
   "cell_type": "markdown",
   "id": "e516f2cb",
   "metadata": {},
   "source": [
    "# mean of total energy"
   ]
  },
  {
   "cell_type": "code",
   "execution_count": 142,
   "id": "40ef0f2d",
   "metadata": {},
   "outputs": [
    {
     "name": "stdout",
     "output_type": "stream",
     "text": [
      "mean of Energy 3:  874413.6683333333\n"
     ]
    }
   ],
   "source": [
    "print('mean of Energy 3: ', st.mean(Energy3))"
   ]
  },
  {
   "cell_type": "code",
   "execution_count": 219,
   "id": "b29b3950",
   "metadata": {},
   "outputs": [
    {
     "data": {
      "image/png": "[encoded data removed]",
      "text/plain": [
       "<Figure size 432x288 with 1 Axes>"
      ]
     },
     "metadata": {
      "needs_background": "light"
     },
     "output_type": "display_data"
    }
   ],
   "source": [
    "Energy1 = fog_data ['m2'].tolist()\n",
    "device1 = fog_data['devices'].tolist()\n",
    "\n",
    "#find out the matplot\n",
    "plt.plot(device1, Energy1, color='red', marker='o')\n",
    "plt.title('Energy Vs sensors', fontsize=14)\n",
    "plt.xlabel('Sensors', fontsize=14)\n",
    "plt.ylabel('Energy', fontsize=14)\n",
    "plt.grid(True)\n",
    "plt.show()"
   ]
  },
  {
   "cell_type": "markdown",
   "id": "e6bb4391",
   "metadata": {},
   "source": [
    "# plotting energy 4"
   ]
  },
  {
   "cell_type": "code",
   "execution_count": 144,
   "id": "df24487d",
   "metadata": {},
   "outputs": [],
   "source": [
    "Energy4 = fog_data['m3'].tolist()"
   ]
  },
  {
   "cell_type": "code",
   "execution_count": 145,
   "id": "04f88b23",
   "metadata": {},
   "outputs": [
    {
     "data": {
      "text/plain": [
       "[874473.45, 874768.25, 874553.11, 874752.14, 873708.72, 874365.12]"
      ]
     },
     "execution_count": 145,
     "metadata": {},
     "output_type": "execute_result"
    }
   ],
   "source": [
    "Energy4"
   ]
  },
  {
   "cell_type": "markdown",
   "id": "314aaac5",
   "metadata": {},
   "source": [
    "# total energy"
   ]
  },
  {
   "cell_type": "code",
   "execution_count": 146,
   "id": "9dada7a7",
   "metadata": {},
   "outputs": [
    {
     "name": "stdout",
     "output_type": "stream",
     "text": [
      "total energy 4:  5246620.79\n"
     ]
    }
   ],
   "source": [
    "print('total energy 4: ', sum(Energy4))"
   ]
  },
  {
   "cell_type": "markdown",
   "id": "78deb936",
   "metadata": {},
   "source": [
    "# mean of Energy 4"
   ]
  },
  {
   "cell_type": "code",
   "execution_count": 147,
   "id": "dc54d174",
   "metadata": {},
   "outputs": [
    {
     "name": "stdout",
     "output_type": "stream",
     "text": [
      "mean of Energy 4:  874436.7983333333\n"
     ]
    }
   ],
   "source": [
    "print('mean of Energy 4: ', st.mean(Energy4))"
   ]
  },
  {
   "cell_type": "code",
   "execution_count": 220,
   "id": "fab595c6",
   "metadata": {},
   "outputs": [
    {
     "data": {
      "image/png": "[encoded data removed]",
      "text/plain": [
       "<Figure size 432x288 with 1 Axes>"
      ]
     },
     "metadata": {
      "needs_background": "light"
     },
     "output_type": "display_data"
    }
   ],
   "source": [
    "Energy1 = fog_data ['m3'].tolist()\n",
    "device1 = fog_data['devices'].tolist()\n",
    "\n",
    "#find out the matplot\n",
    "plt.plot(device1, Energy1, color='red', marker='o')\n",
    "plt.title('Energy Vs sensors', fontsize=14)\n",
    "plt.xlabel('Sensors', fontsize=14)\n",
    "plt.ylabel('Energy', fontsize=14)\n",
    "plt.grid(True)\n",
    "plt.show()"
   ]
  },
  {
   "cell_type": "markdown",
   "id": "43730265",
   "metadata": {},
   "source": [
    "# plotting total energy"
   ]
  },
  {
   "cell_type": "code",
   "execution_count": 149,
   "id": "38cacc26",
   "metadata": {},
   "outputs": [],
   "source": [
    "totalEnergy = []\n",
    "totalEnergy.append(st.mean(Energy1))\n",
    "totalEnergy.append(st.mean(Energy2))\n",
    "totalEnergy.append(st.mean(Energy3))\n",
    "totalEnergy.append(st.mean(Energy4))"
   ]
  },
  {
   "cell_type": "markdown",
   "id": "c9f7b129",
   "metadata": {},
   "source": [
    "# sum of all energy's mean"
   ]
  },
  {
   "cell_type": "code",
   "execution_count": 150,
   "id": "559c7485",
   "metadata": {},
   "outputs": [
    {
     "name": "stdout",
     "output_type": "stream",
     "text": [
      "total mean energy:  3497620.9766666666\n"
     ]
    }
   ],
   "source": [
    "print('total mean energy: ', sum(totalEnergy))"
   ]
  },
  {
   "cell_type": "code",
   "execution_count": 151,
   "id": "3e30ee22",
   "metadata": {},
   "outputs": [
    {
     "name": "stdout",
     "output_type": "stream",
     "text": [
      "mean total energy:  874365.685 874404.825 874413.6683333333 874436.7983333333 "
     ]
    }
   ],
   "source": [
    "print('mean total energy: ', end = ' ')\n",
    "for i in totalEnergy:\n",
    "    print(i, end = ' ')"
   ]
  },
  {
   "cell_type": "code",
   "execution_count": 152,
   "id": "7ee47499",
   "metadata": {},
   "outputs": [
    {
     "data": {
      "text/html": [
       "<div>\n",
       "<style scoped>\n",
       "    .dataframe tbody tr th:only-of-type {\n",
       "        vertical-align: middle;\n",
       "    }\n",
       "\n",
       "    .dataframe tbody tr th {\n",
       "        vertical-align: top;\n",
       "    }\n",
       "\n",
       "    .dataframe thead th {\n",
       "        text-align: right;\n",
       "    }\n",
       "</style>\n",
       "<table border=\"1\" class=\"dataframe\">\n",
       "  <thead>\n",
       "    <tr style=\"text-align: right;\">\n",
       "      <th></th>\n",
       "      <th>devices</th>\n",
       "      <th>energy</th>\n",
       "    </tr>\n",
       "  </thead>\n",
       "  <tbody>\n",
       "    <tr>\n",
       "      <th>0</th>\n",
       "      <td>1</td>\n",
       "      <td>874365.6850</td>\n",
       "    </tr>\n",
       "    <tr>\n",
       "      <th>1</th>\n",
       "      <td>2</td>\n",
       "      <td>874404.8250</td>\n",
       "    </tr>\n",
       "    <tr>\n",
       "      <th>2</th>\n",
       "      <td>3</td>\n",
       "      <td>874413.6683</td>\n",
       "    </tr>\n",
       "    <tr>\n",
       "      <th>3</th>\n",
       "      <td>4</td>\n",
       "      <td>874436.7983</td>\n",
       "    </tr>\n",
       "  </tbody>\n",
       "</table>\n",
       "</div>"
      ],
      "text/plain": [
       "   devices       energy\n",
       "0        1  874365.6850\n",
       "1        2  874404.8250\n",
       "2        3  874413.6683\n",
       "3        4  874436.7983"
      ]
     },
     "execution_count": 152,
     "metadata": {},
     "output_type": "execute_result"
    }
   ],
   "source": [
    "meandata = pd.read_csv('C:\\\\Users\\\\DELL\\\\Desktop\\\\NIT research\\\\energyconsumptionmean.csv')\n",
    "meandata.head()"
   ]
  },
  {
   "cell_type": "code",
   "execution_count": 153,
   "id": "c79ba25b",
   "metadata": {},
   "outputs": [
    {
     "name": "stdout",
     "output_type": "stream",
     "text": [
      "<class 'pandas.core.frame.DataFrame'>\n",
      "RangeIndex: 4 entries, 0 to 3\n",
      "Data columns (total 2 columns):\n",
      " #   Column   Non-Null Count  Dtype  \n",
      "---  ------   --------------  -----  \n",
      " 0   devices  4 non-null      int64  \n",
      " 1   energy   4 non-null      float64\n",
      "dtypes: float64(1), int64(1)\n",
      "memory usage: 192.0 bytes\n"
     ]
    }
   ],
   "source": [
    "meandata.info()"
   ]
  },
  {
   "cell_type": "code",
   "execution_count": 154,
   "id": "f1bfef60",
   "metadata": {},
   "outputs": [
    {
     "data": {
      "text/html": [
       "<div>\n",
       "<style scoped>\n",
       "    .dataframe tbody tr th:only-of-type {\n",
       "        vertical-align: middle;\n",
       "    }\n",
       "\n",
       "    .dataframe tbody tr th {\n",
       "        vertical-align: top;\n",
       "    }\n",
       "\n",
       "    .dataframe thead th {\n",
       "        text-align: right;\n",
       "    }\n",
       "</style>\n",
       "<table border=\"1\" class=\"dataframe\">\n",
       "  <thead>\n",
       "    <tr style=\"text-align: right;\">\n",
       "      <th></th>\n",
       "      <th>devices</th>\n",
       "      <th>energy</th>\n",
       "    </tr>\n",
       "  </thead>\n",
       "  <tbody>\n",
       "    <tr>\n",
       "      <th>count</th>\n",
       "      <td>4.000000</td>\n",
       "      <td>4.000000</td>\n",
       "    </tr>\n",
       "    <tr>\n",
       "      <th>mean</th>\n",
       "      <td>2.500000</td>\n",
       "      <td>874405.244150</td>\n",
       "    </tr>\n",
       "    <tr>\n",
       "      <th>std</th>\n",
       "      <td>1.290994</td>\n",
       "      <td>29.618309</td>\n",
       "    </tr>\n",
       "    <tr>\n",
       "      <th>min</th>\n",
       "      <td>1.000000</td>\n",
       "      <td>874365.685000</td>\n",
       "    </tr>\n",
       "    <tr>\n",
       "      <th>25%</th>\n",
       "      <td>1.750000</td>\n",
       "      <td>874395.040000</td>\n",
       "    </tr>\n",
       "    <tr>\n",
       "      <th>50%</th>\n",
       "      <td>2.500000</td>\n",
       "      <td>874409.246650</td>\n",
       "    </tr>\n",
       "    <tr>\n",
       "      <th>75%</th>\n",
       "      <td>3.250000</td>\n",
       "      <td>874419.450800</td>\n",
       "    </tr>\n",
       "    <tr>\n",
       "      <th>max</th>\n",
       "      <td>4.000000</td>\n",
       "      <td>874436.798300</td>\n",
       "    </tr>\n",
       "  </tbody>\n",
       "</table>\n",
       "</div>"
      ],
      "text/plain": [
       "        devices         energy\n",
       "count  4.000000       4.000000\n",
       "mean   2.500000  874405.244150\n",
       "std    1.290994      29.618309\n",
       "min    1.000000  874365.685000\n",
       "25%    1.750000  874395.040000\n",
       "50%    2.500000  874409.246650\n",
       "75%    3.250000  874419.450800\n",
       "max    4.000000  874436.798300"
      ]
     },
     "execution_count": 154,
     "metadata": {},
     "output_type": "execute_result"
    }
   ],
   "source": [
    "meandata.describe()"
   ]
  },
  {
   "cell_type": "code",
   "execution_count": 155,
   "id": "7985d055",
   "metadata": {},
   "outputs": [
    {
     "data": {
      "image/png": "[encoded data removed]",
      "text/plain": [
       "<Figure size 432x288 with 1 Axes>"
      ]
     },
     "metadata": {
      "needs_background": "light"
     },
     "output_type": "display_data"
    }
   ],
   "source": [
    "x, y = meandata['energy'].tolist(), meandata['devices'].tolist()\n",
    "plt.bar(x,y,align='center') # A bar chart\n",
    "plt.xlabel('DEVICES')\n",
    "plt.ylabel('ENERGY')\n",
    "for i in range(len(y)):\n",
    "    plt.hlines(y[i],0,x[i]) # Here you are drawing the horizontal lines\n",
    "plt.show()"
   ]
  },
  {
   "cell_type": "code",
   "execution_count": 224,
   "id": "614b3e27",
   "metadata": {},
   "outputs": [
    {
     "data": {
      "image/png": "[encoded data removed]",
      "text/plain": [
       "<Figure size 432x288 with 1 Axes>"
      ]
     },
     "metadata": {
      "needs_background": "light"
     },
     "output_type": "display_data"
    }
   ],
   "source": [
    "#find out the matplot\n",
    "plt.plot(meandata[\"energy\"].tolist(), meandata[\"devices\"].tolist(), color='red', marker='o')\n",
    "plt.title('Energy Vs sensors', fontsize=14)\n",
    "plt.xlabel('ENERGY', fontsize=14)\n",
    "plt.ylabel('SENSORS', fontsize=14)\n",
    "plt.grid(True)\n",
    "plt.show()"
   ]
  },
  {
   "cell_type": "markdown",
   "id": "c2a3c886",
   "metadata": {},
   "source": [
    "# what if we take different energie's median"
   ]
  },
  {
   "cell_type": "code",
   "execution_count": 157,
   "id": "a11e10d6",
   "metadata": {},
   "outputs": [
    {
     "name": "stdout",
     "output_type": "stream",
     "text": [
      "median of Energy1:  874573.4750000001\n"
     ]
    }
   ],
   "source": [
    "medianList = []\n",
    "Energy1.sort()\n",
    "energyMedian1 = st.median (Energy1)\n",
    "medianList.append(energyMedian1)\n",
    "print ('median of Energy1: ', energyMedian1)"
   ]
  },
  {
   "cell_type": "code",
   "execution_count": 158,
   "id": "885570c0",
   "metadata": {},
   "outputs": [],
   "source": [
    "Energy2.sort()\n",
    "energyMedian2 = st.median (Energy2)\n",
    "medianList.append(energyMedian2)"
   ]
  },
  {
   "cell_type": "code",
   "execution_count": 159,
   "id": "68004eea",
   "metadata": {},
   "outputs": [
    {
     "name": "stdout",
     "output_type": "stream",
     "text": [
      "median of Energy 2:  874486.12\n"
     ]
    }
   ],
   "source": [
    "print ('median of Energy 2: ', energyMedian2)"
   ]
  },
  {
   "cell_type": "code",
   "execution_count": 160,
   "id": "8b204129",
   "metadata": {},
   "outputs": [
    {
     "name": "stdout",
     "output_type": "stream",
     "text": [
      "median of energy 3:  874627.05\n"
     ]
    }
   ],
   "source": [
    "Energy3.sort()\n",
    "energyMedian3 = st.median (Energy3)\n",
    "medianList.append(energyMedian3)\n",
    "print ('median of energy 3: ', energyMedian3)"
   ]
  },
  {
   "cell_type": "code",
   "execution_count": 161,
   "id": "a26b41d5",
   "metadata": {},
   "outputs": [
    {
     "name": "stdout",
     "output_type": "stream",
     "text": [
      "median of energy 4:  874513.28\n"
     ]
    }
   ],
   "source": [
    "Energy4.sort()\n",
    "energyMedian4 = st.median (Energy4)\n",
    "medianList.append(energyMedian4)\n",
    "print ('median of energy 4: ', energyMedian4)"
   ]
  },
  {
   "cell_type": "code",
   "execution_count": 162,
   "id": "22ff1c42",
   "metadata": {},
   "outputs": [
    {
     "name": "stdout",
     "output_type": "stream",
     "text": [
      "874573.4750000001 874486.12 874627.05 874513.28 "
     ]
    }
   ],
   "source": [
    "for i in medianList:\n",
    "    print (i, end = ' ')"
   ]
  },
  {
   "cell_type": "markdown",
   "id": "90af665b",
   "metadata": {},
   "source": [
    "# energylist"
   ]
  },
  {
   "cell_type": "code",
   "execution_count": 163,
   "id": "679e9ae8",
   "metadata": {},
   "outputs": [],
   "source": [
    "energylist = {}"
   ]
  },
  {
   "cell_type": "code",
   "execution_count": 164,
   "id": "cb9fd875",
   "metadata": {},
   "outputs": [],
   "source": [
    "device_data = []\n",
    "for i in range (1, len (medianList) + 1):\n",
    "    device_data.append(i)"
   ]
  },
  {
   "cell_type": "code",
   "execution_count": 165,
   "id": "ce461849",
   "metadata": {},
   "outputs": [
    {
     "data": {
      "text/plain": [
       "[1, 2, 3, 4]"
      ]
     },
     "execution_count": 165,
     "metadata": {},
     "output_type": "execute_result"
    }
   ],
   "source": [
    "device_data"
   ]
  },
  {
   "cell_type": "code",
   "execution_count": 166,
   "id": "9478a893",
   "metadata": {},
   "outputs": [
    {
     "data": {
      "text/html": [
       "<div>\n",
       "<style scoped>\n",
       "    .dataframe tbody tr th:only-of-type {\n",
       "        vertical-align: middle;\n",
       "    }\n",
       "\n",
       "    .dataframe tbody tr th {\n",
       "        vertical-align: top;\n",
       "    }\n",
       "\n",
       "    .dataframe thead th {\n",
       "        text-align: right;\n",
       "    }\n",
       "</style>\n",
       "<table border=\"1\" class=\"dataframe\">\n",
       "  <thead>\n",
       "    <tr style=\"text-align: right;\">\n",
       "      <th></th>\n",
       "      <th>devices</th>\n",
       "      <th>energy</th>\n",
       "    </tr>\n",
       "  </thead>\n",
       "  <tbody>\n",
       "    <tr>\n",
       "      <th>0</th>\n",
       "      <td>1</td>\n",
       "      <td>874573.475</td>\n",
       "    </tr>\n",
       "    <tr>\n",
       "      <th>1</th>\n",
       "      <td>2</td>\n",
       "      <td>874486.120</td>\n",
       "    </tr>\n",
       "    <tr>\n",
       "      <th>2</th>\n",
       "      <td>3</td>\n",
       "      <td>874627.050</td>\n",
       "    </tr>\n",
       "    <tr>\n",
       "      <th>3</th>\n",
       "      <td>4</td>\n",
       "      <td>874513.280</td>\n",
       "    </tr>\n",
       "  </tbody>\n",
       "</table>\n",
       "</div>"
      ],
      "text/plain": [
       "   devices      energy\n",
       "0        1  874573.475\n",
       "1        2  874486.120\n",
       "2        3  874627.050\n",
       "3        4  874513.280"
      ]
     },
     "execution_count": 166,
     "metadata": {},
     "output_type": "execute_result"
    }
   ],
   "source": [
    "energylist ['devices'] = device_data\n",
    "energylist ['energy'] = medianList\n",
    "df = pd.DataFrame(energylist, columns = ['devices', 'energy'])\n",
    "df"
   ]
  },
  {
   "cell_type": "code",
   "execution_count": 167,
   "id": "72c1088a",
   "metadata": {},
   "outputs": [],
   "source": [
    "df.to_csv('C:\\\\Users\\\\DELL\\\\Desktop\\\\NIT research\\\\energymediandata.csv')"
   ]
  },
  {
   "cell_type": "code",
   "execution_count": 234,
   "id": "b48bffc9",
   "metadata": {},
   "outputs": [
    {
     "data": {
      "text/html": [
       "<div>\n",
       "<style scoped>\n",
       "    .dataframe tbody tr th:only-of-type {\n",
       "        vertical-align: middle;\n",
       "    }\n",
       "\n",
       "    .dataframe tbody tr th {\n",
       "        vertical-align: top;\n",
       "    }\n",
       "\n",
       "    .dataframe thead th {\n",
       "        text-align: right;\n",
       "    }\n",
       "</style>\n",
       "<table border=\"1\" class=\"dataframe\">\n",
       "  <thead>\n",
       "    <tr style=\"text-align: right;\">\n",
       "      <th></th>\n",
       "      <th>Unnamed: 0</th>\n",
       "      <th>devices</th>\n",
       "      <th>energy</th>\n",
       "    </tr>\n",
       "  </thead>\n",
       "  <tbody>\n",
       "    <tr>\n",
       "      <th>0</th>\n",
       "      <td>0</td>\n",
       "      <td>1</td>\n",
       "      <td>874573.475</td>\n",
       "    </tr>\n",
       "    <tr>\n",
       "      <th>1</th>\n",
       "      <td>1</td>\n",
       "      <td>2</td>\n",
       "      <td>874486.120</td>\n",
       "    </tr>\n",
       "    <tr>\n",
       "      <th>2</th>\n",
       "      <td>2</td>\n",
       "      <td>3</td>\n",
       "      <td>874627.050</td>\n",
       "    </tr>\n",
       "    <tr>\n",
       "      <th>3</th>\n",
       "      <td>3</td>\n",
       "      <td>4</td>\n",
       "      <td>874513.280</td>\n",
       "    </tr>\n",
       "  </tbody>\n",
       "</table>\n",
       "</div>"
      ],
      "text/plain": [
       "   Unnamed: 0  devices      energy\n",
       "0           0        1  874573.475\n",
       "1           1        2  874486.120\n",
       "2           2        3  874627.050\n",
       "3           3        4  874513.280"
      ]
     },
     "execution_count": 234,
     "metadata": {},
     "output_type": "execute_result"
    }
   ],
   "source": [
    "f = pd.read_csv('C:\\\\Users\\\\DELL\\\\Desktop\\\\NIT research\\\\energymediandata.csv')\n",
    "f"
   ]
  },
  {
   "cell_type": "code",
   "execution_count": 238,
   "id": "42dc4ec7",
   "metadata": {},
   "outputs": [
    {
     "data": {
      "image/png": "[encoded data removed]",
      "text/plain": [
       "<Figure size 432x288 with 1 Axes>"
      ]
     },
     "metadata": {
      "needs_background": "light"
     },
     "output_type": "display_data"
    }
   ],
   "source": [
    "fenergylist = f['energy'].tolist()\n",
    "fdeviceslist = f['devices'].tolist()\n",
    "plt.plot(fdeviceslist, fenergylist, color='green', marker='o')\n",
    "plt.title('Energy Vs sensors', fontsize=14)\n",
    "plt.xlabel('ENERGY', fontsize=14)\n",
    "plt.ylabel('SENSORS', fontsize=14)\n",
    "plt.grid(True)\n",
    "plt.show()"
   ]
  },
  {
   "cell_type": "markdown",
   "id": "f4a3c263",
   "metadata": {},
   "source": [
    "# finding total value"
   ]
  },
  {
   "cell_type": "code",
   "execution_count": 170,
   "id": "fca84d6d",
   "metadata": {},
   "outputs": [],
   "source": [
    "totalValuelist = []"
   ]
  },
  {
   "cell_type": "markdown",
   "id": "1785087f",
   "metadata": {},
   "source": [
    "\n",
    "# inserting energy1 data into totalValuelist"
   ]
  },
  {
   "cell_type": "code",
   "execution_count": 171,
   "id": "960b80fc",
   "metadata": {},
   "outputs": [],
   "source": [
    "for i in Energy1:\n",
    "    totalValuelist.append(i)"
   ]
  },
  {
   "cell_type": "markdown",
   "id": "7ad16884",
   "metadata": {},
   "source": [
    "# inserting energy2 data into totalValuelist"
   ]
  },
  {
   "cell_type": "code",
   "execution_count": 172,
   "id": "d9a42fe5",
   "metadata": {},
   "outputs": [],
   "source": [
    "for i in Energy2:\n",
    "    totalValuelist.append(i)"
   ]
  },
  {
   "cell_type": "markdown",
   "id": "8d00ae96",
   "metadata": {},
   "source": [
    "# inserting energy 3 data into totalValuelist"
   ]
  },
  {
   "cell_type": "code",
   "execution_count": 173,
   "id": "f7aa6ee0",
   "metadata": {},
   "outputs": [],
   "source": [
    "for i in Energy3:\n",
    "    totalValuelist.append(i)"
   ]
  },
  {
   "cell_type": "markdown",
   "id": "88aa505d",
   "metadata": {},
   "source": [
    "# ineserting energy 4 into total value list"
   ]
  },
  {
   "cell_type": "code",
   "execution_count": 174,
   "id": "bfd4d4ad",
   "metadata": {},
   "outputs": [],
   "source": [
    "for i in Energy4:\n",
    "    totalValuelist.append(i)"
   ]
  },
  {
   "cell_type": "code",
   "execution_count": 175,
   "id": "08384053",
   "metadata": {},
   "outputs": [],
   "source": [
    "numbers = [] #numbers\n",
    "for i in range (0, len(totalValuelist)):\n",
    "    numbers.append(i + 1)"
   ]
  },
  {
   "cell_type": "code",
   "execution_count": 176,
   "id": "689b882b",
   "metadata": {},
   "outputs": [],
   "source": [
    "file = {}\n",
    "file ['devices'] = numbers\n",
    "file ['energy'] = totalValuelist"
   ]
  },
  {
   "cell_type": "code",
   "execution_count": 177,
   "id": "c8160614",
   "metadata": {},
   "outputs": [
    {
     "data": {
      "text/plain": [
       "{'devices': [1,\n",
       "  2,\n",
       "  3,\n",
       "  4,\n",
       "  5,\n",
       "  6,\n",
       "  7,\n",
       "  8,\n",
       "  9,\n",
       "  10,\n",
       "  11,\n",
       "  12,\n",
       "  13,\n",
       "  14,\n",
       "  15,\n",
       "  16,\n",
       "  17,\n",
       "  18,\n",
       "  19,\n",
       "  20,\n",
       "  21,\n",
       "  22,\n",
       "  23,\n",
       "  24],\n",
       " 'energy': [873236.11,\n",
       "  874123.38,\n",
       "  874419.66,\n",
       "  874727.29,\n",
       "  874838.35,\n",
       "  874849.32,\n",
       "  873541.96,\n",
       "  874334.75,\n",
       "  874358.3,\n",
       "  874613.94,\n",
       "  874736.66,\n",
       "  874843.34,\n",
       "  873540.36,\n",
       "  874257.74,\n",
       "  874603.17,\n",
       "  874650.93,\n",
       "  874699.11,\n",
       "  874730.7,\n",
       "  873708.72,\n",
       "  874365.12,\n",
       "  874473.45,\n",
       "  874553.11,\n",
       "  874752.14,\n",
       "  874768.25]}"
      ]
     },
     "execution_count": 177,
     "metadata": {},
     "output_type": "execute_result"
    }
   ],
   "source": [
    "file"
   ]
  },
  {
   "cell_type": "code",
   "execution_count": 178,
   "id": "d2305501",
   "metadata": {},
   "outputs": [],
   "source": [
    "totalenergydata = pd.DataFrame(file, columns = ['devices', 'energy'])"
   ]
  },
  {
   "cell_type": "code",
   "execution_count": 179,
   "id": "0426f1f3",
   "metadata": {},
   "outputs": [
    {
     "data": {
      "text/html": [
       "<div>\n",
       "<style scoped>\n",
       "    .dataframe tbody tr th:only-of-type {\n",
       "        vertical-align: middle;\n",
       "    }\n",
       "\n",
       "    .dataframe tbody tr th {\n",
       "        vertical-align: top;\n",
       "    }\n",
       "\n",
       "    .dataframe thead th {\n",
       "        text-align: right;\n",
       "    }\n",
       "</style>\n",
       "<table border=\"1\" class=\"dataframe\">\n",
       "  <thead>\n",
       "    <tr style=\"text-align: right;\">\n",
       "      <th></th>\n",
       "      <th>devices</th>\n",
       "      <th>energy</th>\n",
       "    </tr>\n",
       "  </thead>\n",
       "  <tbody>\n",
       "    <tr>\n",
       "      <th>0</th>\n",
       "      <td>1</td>\n",
       "      <td>873236.11</td>\n",
       "    </tr>\n",
       "    <tr>\n",
       "      <th>1</th>\n",
       "      <td>2</td>\n",
       "      <td>874123.38</td>\n",
       "    </tr>\n",
       "    <tr>\n",
       "      <th>2</th>\n",
       "      <td>3</td>\n",
       "      <td>874419.66</td>\n",
       "    </tr>\n",
       "    <tr>\n",
       "      <th>3</th>\n",
       "      <td>4</td>\n",
       "      <td>874727.29</td>\n",
       "    </tr>\n",
       "    <tr>\n",
       "      <th>4</th>\n",
       "      <td>5</td>\n",
       "      <td>874838.35</td>\n",
       "    </tr>\n",
       "    <tr>\n",
       "      <th>5</th>\n",
       "      <td>6</td>\n",
       "      <td>874849.32</td>\n",
       "    </tr>\n",
       "    <tr>\n",
       "      <th>6</th>\n",
       "      <td>7</td>\n",
       "      <td>873541.96</td>\n",
       "    </tr>\n",
       "    <tr>\n",
       "      <th>7</th>\n",
       "      <td>8</td>\n",
       "      <td>874334.75</td>\n",
       "    </tr>\n",
       "    <tr>\n",
       "      <th>8</th>\n",
       "      <td>9</td>\n",
       "      <td>874358.30</td>\n",
       "    </tr>\n",
       "    <tr>\n",
       "      <th>9</th>\n",
       "      <td>10</td>\n",
       "      <td>874613.94</td>\n",
       "    </tr>\n",
       "    <tr>\n",
       "      <th>10</th>\n",
       "      <td>11</td>\n",
       "      <td>874736.66</td>\n",
       "    </tr>\n",
       "    <tr>\n",
       "      <th>11</th>\n",
       "      <td>12</td>\n",
       "      <td>874843.34</td>\n",
       "    </tr>\n",
       "    <tr>\n",
       "      <th>12</th>\n",
       "      <td>13</td>\n",
       "      <td>873540.36</td>\n",
       "    </tr>\n",
       "    <tr>\n",
       "      <th>13</th>\n",
       "      <td>14</td>\n",
       "      <td>874257.74</td>\n",
       "    </tr>\n",
       "    <tr>\n",
       "      <th>14</th>\n",
       "      <td>15</td>\n",
       "      <td>874603.17</td>\n",
       "    </tr>\n",
       "    <tr>\n",
       "      <th>15</th>\n",
       "      <td>16</td>\n",
       "      <td>874650.93</td>\n",
       "    </tr>\n",
       "    <tr>\n",
       "      <th>16</th>\n",
       "      <td>17</td>\n",
       "      <td>874699.11</td>\n",
       "    </tr>\n",
       "    <tr>\n",
       "      <th>17</th>\n",
       "      <td>18</td>\n",
       "      <td>874730.70</td>\n",
       "    </tr>\n",
       "    <tr>\n",
       "      <th>18</th>\n",
       "      <td>19</td>\n",
       "      <td>873708.72</td>\n",
       "    </tr>\n",
       "    <tr>\n",
       "      <th>19</th>\n",
       "      <td>20</td>\n",
       "      <td>874365.12</td>\n",
       "    </tr>\n",
       "    <tr>\n",
       "      <th>20</th>\n",
       "      <td>21</td>\n",
       "      <td>874473.45</td>\n",
       "    </tr>\n",
       "    <tr>\n",
       "      <th>21</th>\n",
       "      <td>22</td>\n",
       "      <td>874553.11</td>\n",
       "    </tr>\n",
       "    <tr>\n",
       "      <th>22</th>\n",
       "      <td>23</td>\n",
       "      <td>874752.14</td>\n",
       "    </tr>\n",
       "    <tr>\n",
       "      <th>23</th>\n",
       "      <td>24</td>\n",
       "      <td>874768.25</td>\n",
       "    </tr>\n",
       "  </tbody>\n",
       "</table>\n",
       "</div>"
      ],
      "text/plain": [
       "    devices     energy\n",
       "0         1  873236.11\n",
       "1         2  874123.38\n",
       "2         3  874419.66\n",
       "3         4  874727.29\n",
       "4         5  874838.35\n",
       "5         6  874849.32\n",
       "6         7  873541.96\n",
       "7         8  874334.75\n",
       "8         9  874358.30\n",
       "9        10  874613.94\n",
       "10       11  874736.66\n",
       "11       12  874843.34\n",
       "12       13  873540.36\n",
       "13       14  874257.74\n",
       "14       15  874603.17\n",
       "15       16  874650.93\n",
       "16       17  874699.11\n",
       "17       18  874730.70\n",
       "18       19  873708.72\n",
       "19       20  874365.12\n",
       "20       21  874473.45\n",
       "21       22  874553.11\n",
       "22       23  874752.14\n",
       "23       24  874768.25"
      ]
     },
     "execution_count": 179,
     "metadata": {},
     "output_type": "execute_result"
    }
   ],
   "source": [
    "totalenergydata"
   ]
  },
  {
   "cell_type": "code",
   "execution_count": 237,
   "id": "a15e2517",
   "metadata": {},
   "outputs": [],
   "source": [
    "totalenergydata.to_csv('C:\\\\Users\\DELL\\\\Desktop\\\\NIT research\\\\totalenergyfile.csv')"
   ]
  },
  {
   "cell_type": "code",
   "execution_count": 181,
   "id": "5da8e23d",
   "metadata": {},
   "outputs": [],
   "source": [
    "totalenergydataset = pd.read_csv('C:\\\\Users\\DELL\\\\Desktop\\\\NIT research\\\\totalenergyfile.csv')"
   ]
  },
  {
   "cell_type": "code",
   "execution_count": 182,
   "id": "5958ecab",
   "metadata": {},
   "outputs": [
    {
     "data": {
      "text/html": [
       "<div>\n",
       "<style scoped>\n",
       "    .dataframe tbody tr th:only-of-type {\n",
       "        vertical-align: middle;\n",
       "    }\n",
       "\n",
       "    .dataframe tbody tr th {\n",
       "        vertical-align: top;\n",
       "    }\n",
       "\n",
       "    .dataframe thead th {\n",
       "        text-align: right;\n",
       "    }\n",
       "</style>\n",
       "<table border=\"1\" class=\"dataframe\">\n",
       "  <thead>\n",
       "    <tr style=\"text-align: right;\">\n",
       "      <th></th>\n",
       "      <th>Unnamed: 0</th>\n",
       "      <th>devices</th>\n",
       "      <th>energy</th>\n",
       "    </tr>\n",
       "  </thead>\n",
       "  <tbody>\n",
       "    <tr>\n",
       "      <th>0</th>\n",
       "      <td>0</td>\n",
       "      <td>1</td>\n",
       "      <td>873236.11</td>\n",
       "    </tr>\n",
       "    <tr>\n",
       "      <th>1</th>\n",
       "      <td>1</td>\n",
       "      <td>2</td>\n",
       "      <td>874123.38</td>\n",
       "    </tr>\n",
       "    <tr>\n",
       "      <th>2</th>\n",
       "      <td>2</td>\n",
       "      <td>3</td>\n",
       "      <td>874419.66</td>\n",
       "    </tr>\n",
       "    <tr>\n",
       "      <th>3</th>\n",
       "      <td>3</td>\n",
       "      <td>4</td>\n",
       "      <td>874727.29</td>\n",
       "    </tr>\n",
       "    <tr>\n",
       "      <th>4</th>\n",
       "      <td>4</td>\n",
       "      <td>5</td>\n",
       "      <td>874838.35</td>\n",
       "    </tr>\n",
       "    <tr>\n",
       "      <th>5</th>\n",
       "      <td>5</td>\n",
       "      <td>6</td>\n",
       "      <td>874849.32</td>\n",
       "    </tr>\n",
       "    <tr>\n",
       "      <th>6</th>\n",
       "      <td>6</td>\n",
       "      <td>7</td>\n",
       "      <td>873541.96</td>\n",
       "    </tr>\n",
       "    <tr>\n",
       "      <th>7</th>\n",
       "      <td>7</td>\n",
       "      <td>8</td>\n",
       "      <td>874334.75</td>\n",
       "    </tr>\n",
       "    <tr>\n",
       "      <th>8</th>\n",
       "      <td>8</td>\n",
       "      <td>9</td>\n",
       "      <td>874358.30</td>\n",
       "    </tr>\n",
       "    <tr>\n",
       "      <th>9</th>\n",
       "      <td>9</td>\n",
       "      <td>10</td>\n",
       "      <td>874613.94</td>\n",
       "    </tr>\n",
       "    <tr>\n",
       "      <th>10</th>\n",
       "      <td>10</td>\n",
       "      <td>11</td>\n",
       "      <td>874736.66</td>\n",
       "    </tr>\n",
       "    <tr>\n",
       "      <th>11</th>\n",
       "      <td>11</td>\n",
       "      <td>12</td>\n",
       "      <td>874843.34</td>\n",
       "    </tr>\n",
       "    <tr>\n",
       "      <th>12</th>\n",
       "      <td>12</td>\n",
       "      <td>13</td>\n",
       "      <td>873540.36</td>\n",
       "    </tr>\n",
       "    <tr>\n",
       "      <th>13</th>\n",
       "      <td>13</td>\n",
       "      <td>14</td>\n",
       "      <td>874257.74</td>\n",
       "    </tr>\n",
       "    <tr>\n",
       "      <th>14</th>\n",
       "      <td>14</td>\n",
       "      <td>15</td>\n",
       "      <td>874603.17</td>\n",
       "    </tr>\n",
       "    <tr>\n",
       "      <th>15</th>\n",
       "      <td>15</td>\n",
       "      <td>16</td>\n",
       "      <td>874650.93</td>\n",
       "    </tr>\n",
       "    <tr>\n",
       "      <th>16</th>\n",
       "      <td>16</td>\n",
       "      <td>17</td>\n",
       "      <td>874699.11</td>\n",
       "    </tr>\n",
       "    <tr>\n",
       "      <th>17</th>\n",
       "      <td>17</td>\n",
       "      <td>18</td>\n",
       "      <td>874730.70</td>\n",
       "    </tr>\n",
       "    <tr>\n",
       "      <th>18</th>\n",
       "      <td>18</td>\n",
       "      <td>19</td>\n",
       "      <td>873708.72</td>\n",
       "    </tr>\n",
       "    <tr>\n",
       "      <th>19</th>\n",
       "      <td>19</td>\n",
       "      <td>20</td>\n",
       "      <td>874365.12</td>\n",
       "    </tr>\n",
       "    <tr>\n",
       "      <th>20</th>\n",
       "      <td>20</td>\n",
       "      <td>21</td>\n",
       "      <td>874473.45</td>\n",
       "    </tr>\n",
       "    <tr>\n",
       "      <th>21</th>\n",
       "      <td>21</td>\n",
       "      <td>22</td>\n",
       "      <td>874553.11</td>\n",
       "    </tr>\n",
       "    <tr>\n",
       "      <th>22</th>\n",
       "      <td>22</td>\n",
       "      <td>23</td>\n",
       "      <td>874752.14</td>\n",
       "    </tr>\n",
       "    <tr>\n",
       "      <th>23</th>\n",
       "      <td>23</td>\n",
       "      <td>24</td>\n",
       "      <td>874768.25</td>\n",
       "    </tr>\n",
       "  </tbody>\n",
       "</table>\n",
       "</div>"
      ],
      "text/plain": [
       "    Unnamed: 0  devices     energy\n",
       "0            0        1  873236.11\n",
       "1            1        2  874123.38\n",
       "2            2        3  874419.66\n",
       "3            3        4  874727.29\n",
       "4            4        5  874838.35\n",
       "5            5        6  874849.32\n",
       "6            6        7  873541.96\n",
       "7            7        8  874334.75\n",
       "8            8        9  874358.30\n",
       "9            9       10  874613.94\n",
       "10          10       11  874736.66\n",
       "11          11       12  874843.34\n",
       "12          12       13  873540.36\n",
       "13          13       14  874257.74\n",
       "14          14       15  874603.17\n",
       "15          15       16  874650.93\n",
       "16          16       17  874699.11\n",
       "17          17       18  874730.70\n",
       "18          18       19  873708.72\n",
       "19          19       20  874365.12\n",
       "20          20       21  874473.45\n",
       "21          21       22  874553.11\n",
       "22          22       23  874752.14\n",
       "23          23       24  874768.25"
      ]
     },
     "execution_count": 182,
     "metadata": {},
     "output_type": "execute_result"
    }
   ],
   "source": [
    "totalenergydataset"
   ]
  },
  {
   "cell_type": "code",
   "execution_count": 240,
   "id": "5630d7b8",
   "metadata": {},
   "outputs": [
    {
     "data": {
      "image/png": "[encoded data removed]",
      "text/plain": [
       "<Figure size 432x288 with 1 Axes>"
      ]
     },
     "metadata": {
      "needs_background": "light"
     },
     "output_type": "display_data"
    }
   ],
   "source": [
    "plt.plot(totalenergydataset['devices'].tolist(), totalenergydataset['energy'].tolist(), color='green', marker = 'o')\n",
    "plt.title('ENERGY VS DEVICES')\n",
    "plt.xlabel('DEVICES')\n",
    "plt.ylabel('ENERGY')\n",
    "plt.grid(True)\n",
    "plt.show()"
   ]
  },
  {
   "cell_type": "markdown",
   "id": "db846217",
   "metadata": {},
   "source": [
    "# heat map of the following data collected"
   ]
  },
  {
   "cell_type": "code",
   "execution_count": null,
   "id": "10d2e646",
   "metadata": {},
   "outputs": [],
   "source": []
  }
 ],
 "metadata": {
  "kernelspec": {
   "display_name": "Python 3",
   "language": "python",
   "name": "python3"
  },
  "language_info": {
   "codemirror_mode": {
    "name": "ipython",
    "version": 3
   },
   "file_extension": ".py",
   "mimetype": "text/x-python",
   "name": "python",
   "nbconvert_exporter": "python",
   "pygments_lexer": "ipython3",
   "version": "3.8.8"
  }
 },
 "nbformat": 4,
 "nbformat_minor": 5
}
